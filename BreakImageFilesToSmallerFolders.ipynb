{
 "cells": [
  {
   "cell_type": "markdown",
   "metadata": {},
   "source": [
    "# We will try to break all images in Image forlder in small folders of 1000 images"
   ]
  },
  {
   "cell_type": "code",
   "execution_count": 3,
   "metadata": {},
   "outputs": [],
   "source": [
    "import os\n",
    "import shutil"
   ]
  },
  {
   "cell_type": "code",
   "execution_count": 4,
   "metadata": {},
   "outputs": [],
   "source": [
    "# Get current path\n",
    "path = os.getcwd()"
   ]
  },
  {
   "cell_type": "code",
   "execution_count": 8,
   "metadata": {},
   "outputs": [],
   "source": [
    "# Make a parent folder\n",
    "os.mkdir(os.path.join(path, \"BreakImages\"))"
   ]
  },
  {
   "cell_type": "code",
   "execution_count": 20,
   "metadata": {},
   "outputs": [],
   "source": [
    "pathToSaveImages = os.path.join(path, \"BreakImages\")\n",
    "pathToGetImages = os.path.join(path, \"Images\")"
   ]
  },
  {
   "cell_type": "code",
   "execution_count": 23,
   "metadata": {},
   "outputs": [
    {
     "name": "stdout",
     "output_type": "stream",
     "text": [
      "Uploaded 1000 images in Folder_0\n",
      "Uploaded 1000 images in Folder_1\n",
      "Uploaded 1000 images in Folder_2\n",
      "Uploaded 1000 images in Folder_3\n",
      "Uploaded 1000 images in Folder_4\n",
      "Uploaded 1000 images in Folder_5\n",
      "Uploaded 1000 images in Folder_6\n",
      "Uploaded 1000 images in Folder_7\n",
      "Uploaded 1000 images in Folder_8\n",
      "Uploaded 1000 images in Folder_9\n",
      "Uploaded 1000 images in Folder_10\n",
      "Uploaded 1000 images in Folder_11\n",
      "Uploaded 1000 images in Folder_12\n",
      "Uploaded 1000 images in Folder_13\n",
      "Uploaded 1000 images in Folder_14\n",
      "Uploaded 1000 images in Folder_15\n",
      "Uploaded 1000 images in Folder_16\n",
      "Uploaded 1000 images in Folder_17\n",
      "Uploaded 1000 images in Folder_18\n",
      "Uploaded 1000 images in Folder_19\n",
      "Uploaded 1000 images in Folder_20\n",
      "Uploaded 1000 images in Folder_21\n",
      "Uploaded 1000 images in Folder_22\n",
      "Uploaded 1000 images in Folder_23\n",
      "Uploaded 1000 images in Folder_24\n",
      "Uploaded 1000 images in Folder_25\n",
      "Uploaded 1000 images in Folder_26\n",
      "Uploaded 1000 images in Folder_27\n",
      "Uploaded 1000 images in Folder_28\n",
      "Uploaded 1000 images in Folder_29\n",
      "Uploaded 1000 images in Folder_30\n",
      "Uploaded 1000 images in Folder_31\n",
      "Uploaded 1000 images in Folder_32\n",
      "Uploaded 1000 images in Folder_33\n",
      "Uploaded 1000 images in Folder_34\n",
      "Uploaded 1000 images in Folder_35\n",
      "Uploaded 1000 images in Folder_36\n",
      "Uploaded 1000 images in Folder_37\n",
      "Uploaded 1000 images in Folder_38\n",
      "Uploaded 1000 images in Folder_39\n",
      "Uploaded 1000 images in Folder_40\n",
      "Uploaded 1000 images in Folder_41\n",
      "Uploaded 1000 images in Folder_42\n",
      "Uploaded 1000 images in Folder_43\n",
      "Uploaded 1000 images in Folder_44\n",
      "Uploaded 1000 images in Folder_45\n",
      "Uploaded 1000 images in Folder_46\n",
      "Uploaded 1000 images in Folder_47\n",
      "Uploaded 1000 images in Folder_48\n",
      "Uploaded 1000 images in Folder_49\n",
      "Uploaded 1000 images in Folder_50\n"
     ]
    }
   ],
   "source": [
    "file_count = 0\n",
    "folder_count = 0\n",
    "for filename in os.listdir(os.path.join(path, \"Images\")):\n",
    "    if file_count == 0:\n",
    "        os.mkdir(os.path.join(pathToSaveImages, f\"Folder_{folder_count}\"))\n",
    "    shutil.copy(os.path.join(pathToGetImages, filename), os.path.join(pathToSaveImages, f\"Folder_{folder_count}\"))\n",
    "    file_count += 1\n",
    "    if file_count == 1000:\n",
    "        file_count = 0\n",
    "        print(f\"Copied 1000 images to Folder_{folder_count}\")\n",
    "        folder_count += 1"
   ]
  },
  {
   "cell_type": "code",
   "execution_count": null,
   "metadata": {},
   "outputs": [],
   "source": []
  }
 ],
 "metadata": {
  "kernelspec": {
   "display_name": "Python 3",
   "language": "python",
   "name": "python3"
  },
  "language_info": {
   "codemirror_mode": {
    "name": "ipython",
    "version": 3
   },
   "file_extension": ".py",
   "mimetype": "text/x-python",
   "name": "python",
   "nbconvert_exporter": "python",
   "pygments_lexer": "ipython3",
   "version": "3.6.10"
  }
 },
 "nbformat": 4,
 "nbformat_minor": 4
}
