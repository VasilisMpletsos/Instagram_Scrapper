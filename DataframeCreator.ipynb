{
 "cells": [
  {
   "cell_type": "markdown",
   "metadata": {},
   "source": [
    "# Data Scrapping"
   ]
  },
  {
   "cell_type": "code",
   "execution_count": 1,
   "metadata": {},
   "outputs": [],
   "source": [
    "import pandas as pd\n",
    "import os\n",
    "from datetime import datetime\n",
    "import re\n",
    "from selenium import webdriver\n",
    "from selenium.webdriver.common.keys import Keys\n",
    "import subprocess\n",
    "import names\n",
    "from selenium.webdriver.common.by import By\n",
    "import time\n",
    "import math\n",
    "import random \n",
    "import json\n",
    "import matplotlib.pyplot as plt\n",
    "import seaborn as sns"
   ]
  },
  {
   "cell_type": "code",
   "execution_count": 2,
   "metadata": {},
   "outputs": [],
   "source": [
    "email = \"maskradiogreece@gmail.com\"\n",
    "password = \"code1234567\"\n",
    "now = datetime.now()"
   ]
  },
  {
   "cell_type": "code",
   "execution_count": 3,
   "metadata": {},
   "outputs": [],
   "source": [
    "recorded_time = round(datetime.timestamp(now))\n",
    "def scrap_profile(name,count):\n",
    "    try:\n",
    "        command = \"instagram-scraper --user \" + name + \" -u \" + email + \" -p \" + password + \" -m \" + str(count) + \" --cookiejar cookies --media-metadata -t none -d \" + str(recorded_time)  \n",
    "        subprocess.check_output(command)\n",
    "    except subprocess.CalledProcessError as error:\n",
    "        print(\"FAILED!!!!!!!!\")\n",
    "        raise Exception(error.output.decode(\"utf8\"))\n",
    "        "
   ]
  },
  {
   "cell_type": "code",
   "execution_count": 4,
   "metadata": {},
   "outputs": [],
   "source": [
    "class StopExecution(Exception):\n",
    "    def _render_traceback_(self):\n",
    "        pass"
   ]
  },
  {
   "cell_type": "code",
   "execution_count": 5,
   "metadata": {},
   "outputs": [],
   "source": [
    "driver = webdriver.Chrome(\"../Data/chromedriver_win32/chromedriver.exe\")\n",
    "driver.maximize_window()\n",
    "driver.get(\"https://www.instagram.com/\")\n",
    "time.sleep(5)\n",
    "buttons = driver.find_elements_by_tag_name(\"button\")\n",
    "time.sleep(1)\n",
    "buttons[2].click()\n",
    "login_inputs = driver.find_elements_by_tag_name(\"input\")\n",
    "time.sleep(1)\n",
    "login_inputs[0].send_keys(email)\n",
    "time.sleep(1)\n",
    "login_inputs[1].send_keys(password)\n",
    "time.sleep(1)\n",
    "buttons[0].click()\n",
    "time.sleep(5)\n",
    "driver.get(\"https://www.instagram.com/\")\n",
    "time.sleep(2)\n",
    "notification_button = driver.find_elements(By.XPATH, '//button[text()=\"Όχι τώρα\"]')\n",
    "time.sleep(1)\n",
    "notification_button[0].click()"
   ]
  },
  {
   "cell_type": "code",
   "execution_count": null,
   "metadata": {},
   "outputs": [
    {
     "name": "stdout",
     "output_type": "stream",
     "text": [
      "Going to scrap 44 profiles searching for Michael\n",
      "FETCHING ====> Getting 200 from michaeljackson\n"
     ]
    }
   ],
   "source": [
    "time.sleep(10)\n",
    "total_count = 0\n",
    "loop = 1\n",
    "max_request_pattern = re.compile(r'429 Client Error')\n",
    "while True:\n",
    "    driver.get(\"https://www.instagram.com/\")\n",
    "    inputs = driver.find_elements_by_tag_name(\"input\")\n",
    "    # The 3rd one is the search \n",
    "    search = inputs[2]\n",
    "    random_name = names.get_first_name() \n",
    "    search.send_keys(random_name)\n",
    "    time.sleep(10)\n",
    "    # Get List of Users\n",
    "    user_list = driver.find_elements(By.XPATH, '//div[@role=\"none\"]')\n",
    "    # Create List \n",
    "    profile_links = []\n",
    "    for user in user_list:\n",
    "        link = user.find_element_by_tag_name(\"a\")\n",
    "        link = link.get_attribute(\"href\")\n",
    "        if link.find(\"explore\") == -1:\n",
    "            profile_links.append(link)\n",
    "    searched_links = pd.read_csv(\"./Links.csv\")\n",
    "    searched_links = searched_links[\"Links\"].to_list()\n",
    "    print(f\"Going to scrap {len(profile_links)} profiles searching for {random_name}\")\n",
    "    for link in profile_links:\n",
    "        name = link.split(\"/\")[3]\n",
    "        if link in searched_links:\n",
    "            print(f\"SKIPPING ====> USER {name} ALREADY SCRAPED \")\n",
    "            continue\n",
    "        driver.get(link);\n",
    "        try:\n",
    "            is_private = driver.find_element(By.XPATH, \"//*[text()[contains(., 'Αυτός ο λογαριασμός είναι ιδιωτικός')]]\" )\n",
    "            continue \n",
    "        except: \n",
    "            post = driver.find_element(By.XPATH, \"//*[text()[contains(., 'δημοσιεύσεις') or contains(., 'δημοσίευση')]]\" )\n",
    "            num_posts = int(post.find_element_by_tag_name(\"span\").get_attribute(\"innerHTML\").replace(\",\",\"\"))\n",
    "            if num_posts < 20:\n",
    "                print(f\"SKIPPING ====> USER {name} HAS LESS THAN 20 POSTS\")\n",
    "                continue\n",
    "            get_num_posts = min(num_posts,200)\n",
    "            print(f\"FETCHING ====> Getting {get_num_posts} from {name}\")\n",
    "            try:\n",
    "                scrap_profile(name,get_num_posts)\n",
    "                total_count += get_num_posts\n",
    "                print(f\"TOTAL ====> Aquired {total_count} data from {loop} users\")\n",
    "                if total_count > 90:\n",
    "                    print(\"EXITING ====> 90 USERS LIMIT SCRAPPED\")\n",
    "                    raise StopExecution\n",
    "                loop += 1\n",
    "                time.sleep(random.randint(10,60))\n",
    "            except Exception as error:\n",
    "                max_request_limit_reached = re.search(max_request_pattern,str(error))\n",
    "                if max_request_limit_reached != None:\n",
    "                    print(\"EXITING ====> MAX REQUEST API LIMIT REACHED\")\n",
    "                    raise StopExecution\n",
    "                else:\n",
    "                    print(f\"SKIPPING ====>SOMETHING WENT WRONG SCRAPPING USER {name}\")\n",
    "                    continue\n",
    "        searched_links.append(link)\n",
    "        df = pd.DataFrame(searched_links,columns=[\"Links\"])\n",
    "        df.to_csv('./Links.csv',index=False)"
   ]
  },
  {
   "cell_type": "markdown",
   "metadata": {},
   "source": [
    "# Dataframe Creation"
   ]
  },
  {
   "cell_type": "code",
   "execution_count": 9,
   "metadata": {},
   "outputs": [],
   "source": [
    "main_folder = \"JsonData\"\n",
    "\n",
    "user_uuid = []\n",
    "images = []\n",
    "likes = []\n",
    "like_percentages = []\n",
    "days_count = []\n",
    "num_of_tags = []\n",
    "num_of_comments = []\n",
    "date_posted = []\n",
    "type = []\n",
    "count = 1\n",
    "for folder_name in os.listdir(f\"./{main_folder}/\"):\n",
    "    folder_time_recorded = datetime.fromtimestamp(int(folder_name))\n",
    "    for file_name in os.listdir(f\"./{main_folder}/{folder_name}/\"):\n",
    "        file = open(f'./{main_folder}/{folder_name}/{file_name}', encoding=\"utf8\")\n",
    "        data = json.load(file)\n",
    "        sub_likes = []\n",
    "        i = 1\n",
    "        for item in data[\"GraphImages\"]:\n",
    "            if item[\"__typename\"] == \"GraphImage\":\n",
    "                type.append(\"Image\")\n",
    "            elif item[\"__typename\"] == \"GraphVideo\":\n",
    "                type.append(\"Video\")\n",
    "            else:\n",
    "                type.append(\"Images\")\n",
    "            # If the post is at least 2 days old then add it to data or else skip it\n",
    "            user_uuid.append(count)\n",
    "            likes.append(item[\"edge_media_preview_like\"][\"count\"])\n",
    "            try:\n",
    "                num_of_tags.append(len(item[\"tags\"]))\n",
    "            except:\n",
    "                num_of_tags.append(0)\n",
    "            num_of_comments.append(item[\"edge_media_to_comment\"][\"count\"])\n",
    "            sub_likes.append(item[\"edge_media_preview_like\"][\"count\"])\n",
    "            date = datetime.fromtimestamp(item[\"taken_at_timestamp\"])\n",
    "            date_posted.append(date)\n",
    "            days_count.append((datetime.today() - datetime.fromtimestamp(item[\"taken_at_timestamp\"])).days)\n",
    "        maxLikes = max(sub_likes)\n",
    "        sub_like_percentages = []\n",
    "        for like in sub_likes:\n",
    "            sub_like_percentages.append(round(like/maxLikes,2))\n",
    "        like_percentages += sub_like_percentages\n",
    "        count += 1\n",
    "        file.close()"
   ]
  },
  {
   "cell_type": "code",
   "execution_count": 10,
   "metadata": {},
   "outputs": [],
   "source": [
    "df = pd.DataFrame(user_uuid,columns=[\"User uuid\"])"
   ]
  },
  {
   "cell_type": "code",
   "execution_count": 11,
   "metadata": {},
   "outputs": [],
   "source": [
    "df[\"Likes\"] = likes\n",
    "df[\"Days passed from post\"] = days_count\n",
    "df[\"Likes Score\"] = like_percentages\n",
    "df[\"Type\"] = type\n",
    "df[\"Numer of Tags\"] = num_of_tags\n",
    "df[\"Numer of Comments\"] = num_of_comments\n",
    "df[\"Date Posted\"] = date_posted\n",
    "df['Year'] = df['Date Posted'].dt.year\n",
    "df['Month'] = df['Date Posted'].dt.month\n",
    "df['Day'] = df['Date Posted'].dt.day\n",
    "df['Hour'] = df['Date Posted'].dt.hour\n",
    "df['Minute'] = df['Date Posted'].dt.minute"
   ]
  },
  {
   "cell_type": "markdown",
   "metadata": {},
   "source": [
    "# Dataframe Exploration"
   ]
  },
  {
   "cell_type": "code",
   "execution_count": 12,
   "metadata": {},
   "outputs": [
    {
     "data": {
      "text/html": [
       "<div>\n",
       "<style scoped>\n",
       "    .dataframe tbody tr th:only-of-type {\n",
       "        vertical-align: middle;\n",
       "    }\n",
       "\n",
       "    .dataframe tbody tr th {\n",
       "        vertical-align: top;\n",
       "    }\n",
       "\n",
       "    .dataframe thead th {\n",
       "        text-align: right;\n",
       "    }\n",
       "</style>\n",
       "<table border=\"1\" class=\"dataframe\">\n",
       "  <thead>\n",
       "    <tr style=\"text-align: right;\">\n",
       "      <th></th>\n",
       "      <th>User uuid</th>\n",
       "      <th>Likes</th>\n",
       "      <th>Days passed from post</th>\n",
       "      <th>Likes Score</th>\n",
       "      <th>Type</th>\n",
       "      <th>Numer of Tags</th>\n",
       "      <th>Numer of Comments</th>\n",
       "      <th>Date Posted</th>\n",
       "      <th>Year</th>\n",
       "      <th>Month</th>\n",
       "      <th>Day</th>\n",
       "      <th>Hour</th>\n",
       "      <th>Minute</th>\n",
       "    </tr>\n",
       "  </thead>\n",
       "  <tbody>\n",
       "    <tr>\n",
       "      <th>0</th>\n",
       "      <td>1</td>\n",
       "      <td>506</td>\n",
       "      <td>642</td>\n",
       "      <td>0.74</td>\n",
       "      <td>Image</td>\n",
       "      <td>3</td>\n",
       "      <td>11</td>\n",
       "      <td>2019-05-12 21:18:39</td>\n",
       "      <td>2019</td>\n",
       "      <td>5</td>\n",
       "      <td>12</td>\n",
       "      <td>21</td>\n",
       "      <td>18</td>\n",
       "    </tr>\n",
       "    <tr>\n",
       "      <th>1</th>\n",
       "      <td>1</td>\n",
       "      <td>385</td>\n",
       "      <td>643</td>\n",
       "      <td>0.57</td>\n",
       "      <td>Image</td>\n",
       "      <td>0</td>\n",
       "      <td>1</td>\n",
       "      <td>2019-05-12 14:25:55</td>\n",
       "      <td>2019</td>\n",
       "      <td>5</td>\n",
       "      <td>12</td>\n",
       "      <td>14</td>\n",
       "      <td>25</td>\n",
       "    </tr>\n",
       "    <tr>\n",
       "      <th>2</th>\n",
       "      <td>1</td>\n",
       "      <td>373</td>\n",
       "      <td>652</td>\n",
       "      <td>0.55</td>\n",
       "      <td>Images</td>\n",
       "      <td>4</td>\n",
       "      <td>15</td>\n",
       "      <td>2019-05-03 15:18:37</td>\n",
       "      <td>2019</td>\n",
       "      <td>5</td>\n",
       "      <td>3</td>\n",
       "      <td>15</td>\n",
       "      <td>18</td>\n",
       "    </tr>\n",
       "    <tr>\n",
       "      <th>3</th>\n",
       "      <td>1</td>\n",
       "      <td>312</td>\n",
       "      <td>653</td>\n",
       "      <td>0.46</td>\n",
       "      <td>Images</td>\n",
       "      <td>4</td>\n",
       "      <td>1</td>\n",
       "      <td>2019-05-02 16:40:38</td>\n",
       "      <td>2019</td>\n",
       "      <td>5</td>\n",
       "      <td>2</td>\n",
       "      <td>16</td>\n",
       "      <td>40</td>\n",
       "    </tr>\n",
       "    <tr>\n",
       "      <th>4</th>\n",
       "      <td>1</td>\n",
       "      <td>513</td>\n",
       "      <td>660</td>\n",
       "      <td>0.75</td>\n",
       "      <td>Images</td>\n",
       "      <td>5</td>\n",
       "      <td>0</td>\n",
       "      <td>2019-04-25 16:51:58</td>\n",
       "      <td>2019</td>\n",
       "      <td>4</td>\n",
       "      <td>25</td>\n",
       "      <td>16</td>\n",
       "      <td>51</td>\n",
       "    </tr>\n",
       "  </tbody>\n",
       "</table>\n",
       "</div>"
      ],
      "text/plain": [
       "   User uuid  Likes  Days passed from post  Likes Score    Type  \\\n",
       "0          1    506                    642         0.74   Image   \n",
       "1          1    385                    643         0.57   Image   \n",
       "2          1    373                    652         0.55  Images   \n",
       "3          1    312                    653         0.46  Images   \n",
       "4          1    513                    660         0.75  Images   \n",
       "\n",
       "   Numer of Tags  Numer of Comments         Date Posted  Year  Month  Day  \\\n",
       "0              3                 11 2019-05-12 21:18:39  2019      5   12   \n",
       "1              0                  1 2019-05-12 14:25:55  2019      5   12   \n",
       "2              4                 15 2019-05-03 15:18:37  2019      5    3   \n",
       "3              4                  1 2019-05-02 16:40:38  2019      5    2   \n",
       "4              5                  0 2019-04-25 16:51:58  2019      4   25   \n",
       "\n",
       "   Hour  Minute  \n",
       "0    21      18  \n",
       "1    14      25  \n",
       "2    15      18  \n",
       "3    16      40  \n",
       "4    16      51  "
      ]
     },
     "execution_count": 12,
     "metadata": {},
     "output_type": "execute_result"
    }
   ],
   "source": [
    "df.head()"
   ]
  },
  {
   "cell_type": "code",
   "execution_count": 46,
   "metadata": {},
   "outputs": [
    {
     "data": {
      "text/plain": [
       "<matplotlib.axes._subplots.AxesSubplot at 0x171ab842438>"
      ]
     },
     "execution_count": 46,
     "metadata": {},
     "output_type": "execute_result"
    },
    {
     "data": {
      "image/png": "[encoded data removed]",
      "text/plain": [
       "<Figure size 1440x720 with 1 Axes>"
      ]
     },
     "metadata": {
      "needs_background": "light"
     },
     "output_type": "display_data"
    }
   ],
   "source": [
    "df[df[\"User uuid\"]==8].plot.scatter(\"Month\",\"Numer of Comments\",figsize=(20,10))"
   ]
  },
  {
   "cell_type": "code",
   "execution_count": 47,
   "metadata": {},
   "outputs": [
    {
     "ename": "AttributeError",
     "evalue": "'PlotAccessor' object has no attribute 'pcolormesh'",
     "output_type": "error",
     "traceback": [
      "\u001b[1;31m---------------------------------------------------------------------------\u001b[0m",
      "\u001b[1;31mAttributeError\u001b[0m                            Traceback (most recent call last)",
      "\u001b[1;32m<ipython-input-47-5ed1966dcc8a>\u001b[0m in \u001b[0;36m<module>\u001b[1;34m\u001b[0m\n\u001b[1;32m----> 1\u001b[1;33m \u001b[0mdf\u001b[0m\u001b[1;33m.\u001b[0m\u001b[0mplot\u001b[0m\u001b[1;33m.\u001b[0m\u001b[0mpcolormesh\u001b[0m\u001b[1;33m(\u001b[0m\u001b[1;34m\"Month\"\u001b[0m\u001b[1;33m,\u001b[0m\u001b[1;34m\"Numer of Comments\"\u001b[0m\u001b[1;33m)\u001b[0m\u001b[1;33m\u001b[0m\u001b[1;33m\u001b[0m\u001b[0m\n\u001b[0m",
      "\u001b[1;31mAttributeError\u001b[0m: 'PlotAccessor' object has no attribute 'pcolormesh'"
     ]
    }
   ],
   "source": [
    "df.plot.pcolormesh(\"Month\",\"Numer of Comments\")"
   ]
  },
  {
   "cell_type": "code",
   "execution_count": null,
   "metadata": {},
   "outputs": [],
   "source": []
  }
 ],
 "metadata": {
  "kernelspec": {
   "display_name": "Python 3",
   "language": "python",
   "name": "python3"
  },
  "language_info": {
   "codemirror_mode": {
    "name": "ipython",
    "version": 3
   },
   "file_extension": ".py",
   "mimetype": "text/x-python",
   "name": "python",
   "nbconvert_exporter": "python",
   "pygments_lexer": "ipython3",
   "version": "3.6.10"
  }
 },
 "nbformat": 4,
 "nbformat_minor": 4
}
