{
 "cells": [
  {
   "cell_type": "markdown",
   "metadata": {},
   "source": [
    "# Instagram Dataframe Creator"
   ]
  },
  {
   "cell_type": "code",
   "execution_count": 1,
   "metadata": {},
   "outputs": [],
   "source": [
    "import pandas as pd\n",
    "import os\n",
    "from datetime import datetime\n",
    "import re\n",
    "from selenium import webdriver\n",
    "from selenium.webdriver.common.keys import Keys\n",
    "import subprocess\n",
    "import names\n",
    "from selenium.webdriver.common.by import By\n",
    "import time\n",
    "import math\n",
    "import random "
   ]
  },
  {
   "cell_type": "code",
   "execution_count": 2,
   "metadata": {},
   "outputs": [],
   "source": [
    "email = \"maskradiogreece@gmail.com\"\n",
    "password = \"code1234567\""
   ]
  },
  {
   "cell_type": "code",
   "execution_count": 3,
   "metadata": {},
   "outputs": [],
   "source": [
    "def scrap_profile(name,count):\n",
    "    try:\n",
    "        command = \"instagram-scraper --user \" + name + \" -u \" + email + \" -p \" + password + \" -m \" + str(count) + \" --cookiejar cookies --media-metadata -t none -d JsonData\"  \n",
    "        subprocess.check_output(command)\n",
    "    except subprocess.CalledProcessError as e:\n",
    "        raise Exception(\"Sorry, papala\")"
   ]
  },
  {
   "cell_type": "code",
   "execution_count": 4,
   "metadata": {},
   "outputs": [],
   "source": [
    "driver = webdriver.Chrome(\"../Data/chromedriver_win32/chromedriver.exe\")\n",
    "driver.maximize_window()\n",
    "driver.get(\"https://www.instagram.com/\")\n",
    "time.sleep(5)\n",
    "buttons = driver.find_elements_by_tag_name(\"button\")\n",
    "time.sleep(1)\n",
    "buttons[2].click()\n",
    "login_inputs = driver.find_elements_by_tag_name(\"input\")\n",
    "time.sleep(1)\n",
    "login_inputs[0].send_keys(email)\n",
    "time.sleep(1)\n",
    "login_inputs[1].send_keys(password)\n",
    "time.sleep(1)\n",
    "buttons[0].click()\n",
    "time.sleep(5)\n",
    "notification_button = driver.find_elements(By.XPATH, '//button[text()=\"Όχι τώρα\"]')\n",
    "time.sleep(1)\n",
    "notification_button[0].click()"
   ]
  },
  {
   "cell_type": "code",
   "execution_count": null,
   "metadata": {},
   "outputs": [
    {
     "name": "stdout",
     "output_type": "stream",
     "text": [
      "FETCHING ====> Getting 200 from jamescharles\n"
     ]
    }
   ],
   "source": [
    "while True:\n",
    "    driver.get(\"https://www.instagram.com/\")\n",
    "    inputs = driver.find_elements_by_tag_name(\"input\")\n",
    "    # The 3rd one is the search \n",
    "    search = inputs[2]\n",
    "    random_name = names.get_first_name() \n",
    "    search.send_keys(random_name)\n",
    "    time.sleep(2)\n",
    "    # Get List of Users\n",
    "    user_list = driver.find_elements(By.XPATH, '//div[@role=\"none\"]')\n",
    "    # Create List \n",
    "    profile_links = []\n",
    "    for user in user_list:\n",
    "        link = user.find_element_by_tag_name(\"a\")\n",
    "        link = link.get_attribute(\"href\")\n",
    "        if link.find(\"explore\") == -1:\n",
    "            profile_links.append(link)\n",
    "    searched_links = pd.read_csv(\"./Links.csv\")\n",
    "    searched_links = searched_links[\"Links\"].to_list()\n",
    "    for link in profile_links:\n",
    "        name = link.split(\"/\")[3]\n",
    "        if link in searched_links:\n",
    "            print(f\"SKIPPING ====> USER {name} ALREADY SCRAPED \")\n",
    "            continue\n",
    "        driver.get(link);\n",
    "        try:\n",
    "            is_private = driver.find_element(By.XPATH, \"//*[text()[contains(., 'Αυτός ο λογαριασμός είναι ιδιωτικός')]]\" )\n",
    "            continue \n",
    "        except: \n",
    "            post = driver.find_element(By.XPATH, \"//*[text()[contains(., 'δημοσιεύσεις') or contains(., 'δημοσίευση')]]\" )\n",
    "            num_posts = int(post.find_element_by_tag_name(\"span\").get_attribute(\"innerHTML\").replace(\",\",\"\"))\n",
    "            if num_posts < 20:\n",
    "                print(\"SKIPPING ====> LESS THAN 10 POSTS\")\n",
    "                continue\n",
    "            get_num_posts = min(num_posts,200)\n",
    "            print(f\"FETCHING ====> Getting {get_num_posts} from {name}\")\n",
    "            try:\n",
    "                scrap_profile(name,get_num_posts)\n",
    "                time.sleep(random.randint(60,180))\n",
    "            except:\n",
    "                print(f\"There was error on getting {name}\")"
   ]
  }
 ],
 "metadata": {
  "kernelspec": {
   "display_name": "Python 3",
   "language": "python",
   "name": "python3"
  },
  "language_info": {
   "codemirror_mode": {
    "name": "ipython",
    "version": 3
   },
   "file_extension": ".py",
   "mimetype": "text/x-python",
   "name": "python",
   "nbconvert_exporter": "python",
   "pygments_lexer": "ipython3",
   "version": "3.6.10"
  }
 },
 "nbformat": 4,
 "nbformat_minor": 4
}
