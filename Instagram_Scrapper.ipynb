{
 "cells": [
  {
   "cell_type": "markdown",
   "metadata": {},
   "source": [
    "# Instagram Scrapper Test"
   ]
  },
  {
   "cell_type": "code",
   "execution_count": 1,
   "metadata": {},
   "outputs": [],
   "source": [
    "import os\n",
    "import json\n",
    "import re"
   ]
  },
  {
   "cell_type": "markdown",
   "metadata": {},
   "source": [
    "### Delete file instagram scrapper log"
   ]
  },
  {
   "cell_type": "code",
   "execution_count": 3,
   "metadata": {},
   "outputs": [],
   "source": [
    "if os.path.exists(\"./Data/instagram-scraper.log\"):\n",
    "  os.remove(\"./Data/instagram-scraper.log\")"
   ]
  },
  {
   "cell_type": "code",
   "execution_count": 5,
   "metadata": {},
   "outputs": [
    {
     "name": "stdout",
     "output_type": "stream",
     "text": [
      "cccontos\n",
      "chiponoska\n",
      "christianna.kv\n",
      "christianna.souli\n",
      "christiannapall\n",
      "christianna_melina\n",
      "christianna_mell\n",
      "christianna_mi_mua\n",
      "christianna_piti\n",
      "christianna_skoura\n",
      "chriszyka\n",
      "evelyn.zar\n",
      "evelynakyritsi\n",
      "evelynkazantzoglou\n",
      "evelynkorniliou\n",
      "evelynniiee\n",
      "evelynnscarlet\n",
      "evelynpap\n",
      "evelynvcalderon\n",
      "evelynvuckovic\n",
      "evelyn_burdecki\n",
      "evelyn_rangeel\n",
      "hjevelyn\n",
      "reissmannevelyn\n",
      "theevelyng\n",
      "thelove_queens\n",
      "xristianna__k\n",
      "_evelynjaneth\n"
     ]
    }
   ],
   "source": [
    "for folder_name in os.listdir(\"./Data\"):\n",
    "    print(folder_name)"
   ]
  },
  {
   "cell_type": "code",
   "execution_count": 6,
   "metadata": {},
   "outputs": [
    {
     "name": "stdout",
     "output_type": "stream",
     "text": [
      "We have 120 images and 120 likes\n",
      "We have 250 images and 250 likes\n",
      "We have 50 images and 50 likes\n",
      "We have 100 images and 100 likes\n",
      "We have 110 images and 110 likes\n",
      "We have 110 images and 110 likes\n",
      "We have 70 images and 70 likes\n",
      "We have 100 images and 100 likes\n",
      "We have 100 images and 100 likes\n",
      "We have 300 images and 300 likes\n",
      "We have 150 images and 150 likes\n",
      "We have 28 images and 28 likes\n",
      "We have 23 images and 23 likes\n",
      "We have 2200 images and 2200 likes\n",
      "We have 320 images and 320 likes\n",
      "We have 1000 images and 1000 likes\n",
      "We have 70 images and 70 likes\n",
      "We have 500 images and 500 likes\n",
      "We have 2000 images and 2000 likes\n",
      "We have 1100 images and 1100 likes\n",
      "We have 400 images and 400 likes\n",
      "We have 49 images and 49 likes\n",
      "We have 140 images and 140 likes\n",
      "We have 600 images and 600 likes\n",
      "We have 400 images and 400 likes\n",
      "We have 120 images and 120 likes\n",
      "We have 100 images and 100 likes\n",
      "We have 80 images and 80 likes\n",
      "Got totally 10590 images\n"
     ]
    }
   ],
   "source": [
    "count = 0;\n",
    "for folder_name in os.listdir(\"./Data\"):\n",
    "    file = open(f'Data/{folder_name}/{folder_name}.json', encoding=\"utf8\")\n",
    "    data = json.load(file)\n",
    "    pattern = re.compile(r'\\d+_\\d+_\\d+_n.jpg')\n",
    "    images = []\n",
    "    likes = []\n",
    "    for item in data[\"GraphImages\"]:\n",
    "        finds = re.search(pattern,item[\"display_url\"])\n",
    "        images.append(finds[0])\n",
    "        likes.append(item[\"edge_media_preview_like\"][\"count\"])\n",
    "    maxLikes = max(likes)\n",
    "    print(f\"We have {len(images)} images and {len(likes)} likes\")\n",
    "    count += len(likes)\n",
    "    for index,name in enumerate(images):\n",
    "        try:\n",
    "            os.rename(rf\"./Data/{folder_name}/{name}\",rf\"./Data/{folder_name}/{round(likes[index]/maxLikes,2):.2f} {folder_name}{name}\")\n",
    "        except:\n",
    "            pass\n",
    "    file.close()\n",
    "print(\"\")\n",
    "print(f\"Got totally {count} images\")"
   ]
  },
  {
   "cell_type": "code",
   "execution_count": null,
   "metadata": {},
   "outputs": [],
   "source": []
  }
 ],
 "metadata": {
  "kernelspec": {
   "display_name": "Python 3",
   "language": "python",
   "name": "python3"
  },
  "language_info": {
   "codemirror_mode": {
    "name": "ipython",
    "version": 3
   },
   "file_extension": ".py",
   "mimetype": "text/x-python",
   "name": "python",
   "nbconvert_exporter": "python",
   "pygments_lexer": "ipython3",
   "version": "3.6.10"
  }
 },
 "nbformat": 4,
 "nbformat_minor": 4
}
